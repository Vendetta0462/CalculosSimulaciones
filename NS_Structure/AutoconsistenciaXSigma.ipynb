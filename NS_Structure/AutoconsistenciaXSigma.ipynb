{
 "cells": [
  {
   "cell_type": "code",
   "execution_count": 1,
   "id": "2cd8deb8-2be9-4355-b979-ed47bbebd654",
   "metadata": {},
   "outputs": [
    {
     "name": "stderr",
     "output_type": "stream",
     "text": [
      "/home/laura/.local/lib/python3.10/site-packages/matplotlib/projections/__init__.py:63: UserWarning: Unable to import Axes3D. This may be due to multiple versions of Matplotlib being installed (e.g. as a system package and as a pip package). As a result, the 3D projection is not available.\n",
      "  warnings.warn(\"Unable to import Axes3D. This may be due to multiple versions of \"\n"
     ]
    }
   ],
   "source": [
    "import numpy as np\n",
    "#import pandas as pd\n",
    "import matplotlib.pyplot as plt\n",
    "\n",
    "\n",
    "from scipy.integrate import odeint, quad\n",
    "from scipy.interpolate import interp1d\n",
    "from scipy.optimize import fsolve"
   ]
  },
  {
   "cell_type": "markdown",
   "id": "4e3f02e8-ad19-4236-9cdd-9674e9404a11",
   "metadata": {},
   "source": [
    "$$ n =\\frac{\\rho}{m_n} = \\frac{2p_F^3}{3\\pi^2\\hbar^3} \\iff x_F = \\frac{p_F}{m_n c}\\iff \\frac{\\rho}{m_n} =\\frac{2}{3\\pi^2} \\left(\\frac{ m_n c}{\\hbar}\\right)^3x_F^3 $$ \n",
    "$$ 1-x_\\sigma - A_\\sigma^2 \\frac{2}{\\pi^2 } \\int_0^{x_F(n)} \\frac{ x_\\sigma}{\\sqrt{x^2 + x_\\sigma^2}} x^2 dx = 0$$\n",
    "con\n",
    "$$x_\\sigma= 1- \\frac{g_\\sigma \\sigma}{m_n} \\qquad ; \\quad A_\\sigma=\\frac{g_\\sigma m_n}{m_\\sigma}$$"
   ]
  },
  {
   "cell_type": "code",
   "execution_count": 62,
   "id": "8cab165e-d284-49e2-8d1b-3f3e9a8bb1ac",
   "metadata": {},
   "outputs": [],
   "source": [
    "#hbar_MKS = 1.0545718e-34 # J s\n",
    "#c_MKS = 299792458 # m/s\n",
    "#G_MKS = 6.67430e-11 # m^3/kg/s^2\n",
    "#pi = np.pi\n",
    "#m_nuc_MKS = 1.6726219e-27 # kg\n",
    "\n",
    "c    = 2.99792458e10\n",
    "G    = 6.67e-8\n",
    "mn   = 1.674e-24\n",
    "hbar = 1.05457162e-27\n",
    "fm   = 1e-13\n",
    "\n",
    "mn_a = mn*c/hbar\n",
    "# Definimos las constantes necesarias en unidades geometrizadas\n",
    "#hbar = hbar_MKS * (G_MKS/c_MKS**3) # m^2\n",
    "#m_nuc = m_nuc_MKS * (G_MKS/c_MKS**2) # m\n",
    "\n",
    "# Damos valores a las constantes (valores tomados del paper de Walecka)\n",
    "#A_sigma = np.sqrt(266.9*hbar/m_nuc**2)\n",
    "#A_omega = np.sqrt(195.7*hbar/m_nuc**2)\n",
    "\n",
    "\n",
    "def autoconsistencia(x_s, A_s, rho_):\n",
    "    n_ = rho_ / mn\n",
    "    x_f = (1.0/mn_a)*(3.0*np.pi**2*n_/2.0)**(1/3) # Momento de Fermi en función de n_barion\n",
    "    # La integral es analítica\n",
    "    integral = x_s * ( x_f * np.sqrt( x_s**2 + x_f**2 ) - x_s**2 * np.arctanh( x_f/np.sqrt(x_s**2+x_f**2) ) )\n",
    "    return 1.0 - x_s - A_s * integral / ( 3.0 * np.pi**2 )\n",
    "\n",
    "# Función para resolver la ecuación de autoconsistencia para un n_barion y A_sigma dados\n",
    "def solucion_x_sigma(rho_b, A_sigma):\n",
    "    return fsolve(autoconsistencia, 1, args=(A_sigma, rho_b))[0]\n",
    "\n",
    "\n",
    "def Int(x,a):\n",
    "    ff  = x**2 + a**2\n",
    "    f12 = np.sqrt(ff)\n",
    "    AAe = x * (2.0*x**2 + a**2) * f12 - a**4*np.arctanh( x / f12 ) \n",
    "    AAp = x * f12 * (2.0*x**2 - 3.0*a**2) + 3.0 * a**4*np.arctanh( x / f12 ) \n",
    "    \n",
    "    return [ AAe/8.0, AAp/8.0 ]\n",
    "\n",
    "def EoS(rho_, A_s, A_w):\n",
    "    n_ = rho_ / mn\n",
    "    x_f = (1.0/mn_a)*(3.0*np.pi**2*n_/2.0)**(1/3) # Momento de Fermi en función de n_barion\n",
    "    \n",
    "    x_s= fsolve(autoconsistencia, 1, args=(A_s, rho_))[0]\n",
    "\n",
    "    Ints = Int(x_f, x_s)\n",
    "\n",
    "    den_ = 0.5 * ( 1.0 - x_s )**2 / A_s + 2.0 * A_w * x_f**6 / (9.0*np.pi**4)  + 2.0*Ints[0] / np.pi**2\n",
    "\n",
    "    p_   = -0.5 * (1.0-x_s)**2 / A_s + 2.0 * A_w * x_f**6 / (9.0*np.pi**4)  + 4.0*Ints[1] /  (3.0 * np.pi**2)\n",
    "\n",
    "\n",
    "    return [ n_, den_, p_]"
   ]
  },
  {
   "cell_type": "code",
   "execution_count": 63,
   "id": "23395029-babf-444b-bb48-832842985fe0",
   "metadata": {},
   "outputs": [],
   "source": [
    "xx = np.arange(10,17,0.1)\n",
    "xxs = np.zeros(len(xx))\n",
    "\n",
    "for i,x in enumerate(xx):\n",
    "    xxs[i] = solucion_x_sigma(np.power(10.0,x), 266.9)"
   ]
  },
  {
   "cell_type": "code",
   "execution_count": 64,
   "id": "dfac7eb2-35c3-41a0-986e-affb597c3e9e",
   "metadata": {},
   "outputs": [
    {
     "data": {
      "image/png": "[encoded data removed]",
      "text/plain": [
       "<Figure size 432x288 with 1 Axes>"
      ]
     },
     "metadata": {
      "needs_background": "light"
     },
     "output_type": "display_data"
    }
   ],
   "source": [
    "plt.plot(xx, xxs)\n",
    "plt.xlabel(r'$log_{10} \\rho$')\n",
    "plt.ylabel(r'$x_s$')\n",
    "plt.show()"
   ]
  },
  {
   "cell_type": "code",
   "execution_count": 65,
   "id": "3f9a0dda",
   "metadata": {},
   "outputs": [],
   "source": [
    "xx = np.arange(10,17,0.1)\n",
    "eos_ = np.zeros((3,len(xx)))\n",
    "\n",
    "for i,x in enumerate(xx):\n",
    "    eos_[:,i] = EoS(np.power(10.0,x), 266.9,195.7)\n",
    "    "
   ]
  },
  {
   "cell_type": "code",
   "execution_count": 66,
   "id": "95ed5880-b0da-4ff4-8f21-7ed61e13175f",
   "metadata": {},
   "outputs": [],
   "source": [
    "e_dim = mn**4*(c/hbar)**3"
   ]
  },
  {
   "cell_type": "code",
   "execution_count": 73,
   "id": "3c1fa5ee-73b7-4927-99cb-e15fd89395db",
   "metadata": {},
   "outputs": [
    {
     "data": {
      "text/plain": [
       "Text(0, 0.5, '$p$')"
      ]
     },
     "execution_count": 73,
     "metadata": {},
     "output_type": "execute_result"
    },
    {
     "data": {
      "image/png": "[encoded data removed]",
      "text/plain": [
       "<Figure size 432x288 with 1 Axes>"
      ]
     },
     "metadata": {
      "needs_background": "light"
     },
     "output_type": "display_data"
    }
   ],
   "source": [
    "plt.semilogy(xx, eos_[2,:]*e_dim*c**2 )\n",
    "plt.xlabel(r'$log_{10} \\rho$')\n",
    "plt.ylabel(r'$p$')\n"
   ]
  },
  {
   "cell_type": "code",
   "execution_count": 72,
   "id": "b4bb5460-fa3b-44a2-a21a-8e80656ddf42",
   "metadata": {},
   "outputs": [
    {
     "data": {
      "text/plain": [
       "Text(0, 0.5, '$e$')"
      ]
     },
     "execution_count": 72,
     "metadata": {},
     "output_type": "execute_result"
    },
    {
     "data": {
      "image/png": "[encoded data removed]",
      "text/plain": [
       "<Figure size 432x288 with 1 Axes>"
      ]
     },
     "metadata": {
      "needs_background": "light"
     },
     "output_type": "display_data"
    }
   ],
   "source": [
    "plt.loglog(eos_[1,:]*e_dim*c**2 , eos_[2,:]*e_dim*c**2)\n",
    "plt.xlabel(r'$pp$')\n",
    "plt.ylabel(r'$e$')"
   ]
  },
  {
   "cell_type": "code",
   "execution_count": null,
   "id": "bbedac8d-82d7-4d3d-8a24-34ac40bf1b38",
   "metadata": {},
   "outputs": [],
   "source": []
  }
 ],
 "metadata": {
  "kernelspec": {
   "display_name": "Python 3 (ipykernel)",
   "language": "python",
   "name": "python3"
  },
  "language_info": {
   "codemirror_mode": {
    "name": "ipython",
    "version": 3
   },
   "file_extension": ".py",
   "mimetype": "text/x-python",
   "name": "python",
   "nbconvert_exporter": "python",
   "pygments_lexer": "ipython3",
   "version": "3.10.12"
  }
 },
 "nbformat": 4,
 "nbformat_minor": 5
}
