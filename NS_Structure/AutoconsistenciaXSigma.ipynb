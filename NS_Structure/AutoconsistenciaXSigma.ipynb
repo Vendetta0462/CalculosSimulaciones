{
 "cells": [
  {
   "cell_type": "code",
   "execution_count": 2,
   "id": "2cd8deb8-2be9-4355-b979-ed47bbebd654",
   "metadata": {},
   "outputs": [],
   "source": [
    "import numpy as np\n",
    "#import pandas as pd\n",
    "import matplotlib.pyplot as plt\n",
    "\n",
    "\n",
    "from scipy.integrate import odeint, quad\n",
    "from scipy.interpolate import interp1d\n",
    "from scipy.optimize import fsolve"
   ]
  },
  {
   "cell_type": "markdown",
   "id": "4e3f02e8-ad19-4236-9cdd-9674e9404a11",
   "metadata": {},
   "source": [
    "$$ n =\\frac{\\rho}{m_n} = \\frac{2p_F^3}{3\\pi^2\\hbar^3} \\iff x_F = \\frac{p_F}{m_n c}\\iff \\frac{\\rho}{m_n} =\\frac{2}{3\\pi^2} \\left(\\frac{ m_n c}{\\hbar}\\right)^3x_F^3 $$ \n",
    "$$ 1-x_\\sigma - A_\\sigma^2 \\frac{2}{\\pi^2 } \\int_0^{x_F(n)} \\frac{ x_\\sigma}{\\sqrt{x^2 + x_\\sigma^2}} x^2 dx = 0$$\n",
    "con\n",
    "$$x_\\sigma= 1- \\frac{g_\\sigma \\sigma}{m_n} \\qquad ; \\quad A_\\sigma=\\frac{g_\\sigma m_n}{m_\\sigma}$$"
   ]
  },
  {
   "cell_type": "code",
   "execution_count": 1,
   "id": "8cab165e-d284-49e2-8d1b-3f3e9a8bb1ac",
   "metadata": {},
   "outputs": [],
   "source": [
    "#hbar_MKS = 1.0545718e-34 # J s\n",
    "#c_MKS = 299792458 # m/s\n",
    "#G_MKS = 6.67430e-11 # m^3/kg/s^2\n",
    "#pi = np.pi\n",
    "#m_nuc_MKS = 1.6726219e-27 # kg\n",
    "\n",
    "c    = 2.99792458e10\n",
    "G    = 6.67e-8\n",
    "mn   = 1.674e-24\n",
    "hbar = 1.05457162e-27\n",
    "fm   = 1e-13\n",
    "\n",
    "mn_a = mn*c/hbar\n",
    "# Definimos las constantes necesarias en unidades geometrizadas\n",
    "#hbar = hbar_MKS * (G_MKS/c_MKS**3) # m^2\n",
    "#m_nuc = m_nuc_MKS * (G_MKS/c_MKS**2) # m\n",
    "\n",
    "# Damos valores a las constantes (valores tomados del paper de Walecka)\n",
    "#A_sigma = np.sqrt(266.9*hbar/m_nuc**2)\n",
    "#A_omega = np.sqrt(195.7*hbar/m_nuc**2)\n",
    "\n",
    "\n",
    "def autoconsistencia(x_s, A_s, rho_):\n",
    "    n_ = rho_ / mn\n",
    "    x_f = (1.0/mn_a)*(3.0*np.pi**2*n_/2.0)**(1/3) # Momento de Fermi en función de n_barion\n",
    "    # La integral es analítica\n",
    "    integral = x_s * ( x_f * np.sqrt( x_s**2 + x_f**2 ) - x_s**2 * np.arctanh( x_f/np.sqrt(x_s**2+x_f**2) ) )\n",
    "    return 1.0 - x_s - A_s * integral / ( 3.0 * np.pi**2 )\n",
    "\n",
    "# Función para resolver la ecuación de autoconsistencia para un n_barion y A_sigma dados\n",
    "def solucion_x_sigma(rho_b, A_sigma):\n",
    "    return fsolve(autoconsistencia, 1, args=(A_sigma, rho_b))[0]"
   ]
  },
  {
   "cell_type": "code",
   "execution_count": 3,
   "id": "23395029-babf-444b-bb48-832842985fe0",
   "metadata": {},
   "outputs": [],
   "source": [
    "xx = np.arange(10,17,0.1)\n",
    "xxs = np.zeros(len(xx))\n",
    "\n",
    "for i,x in enumerate(xx):\n",
    "    xxs[i] = solucion_x_sigma(np.power(10.0,x), 266.9)"
   ]
  },
  {
   "cell_type": "code",
   "execution_count": 6,
   "id": "fc712bbc",
   "metadata": {},
   "outputs": [
    {
     "data": {
      "text/plain": [
       "70"
      ]
     },
     "execution_count": 6,
     "metadata": {},
     "output_type": "execute_result"
    }
   ],
   "source": [
    "len(xx)"
   ]
  },
  {
   "cell_type": "code",
   "execution_count": 4,
   "id": "dfac7eb2-35c3-41a0-986e-affb597c3e9e",
   "metadata": {},
   "outputs": [
    {
     "data": {
      "image/png": "[encoded data removed]",
      "text/plain": [
       "<Figure size 640x480 with 1 Axes>"
      ]
     },
     "metadata": {},
     "output_type": "display_data"
    }
   ],
   "source": [
    "plt.plot(xx, xxs)\n",
    "plt.xlabel(r'$log_{10} \\rho$')\n",
    "plt.ylabel(r'$x_s$')\n",
    "plt.show()"
   ]
  },
  {
   "cell_type": "code",
   "execution_count": 5,
   "id": "3f9a0dda",
   "metadata": {},
   "outputs": [
    {
     "data": {
      "text/plain": [
       "array([0.99999507, 0.99999379, 0.99999218, 0.99999016, 0.99998761,\n",
       "       0.99998441, 0.99998037, 0.99997529, 0.99996889, 0.99996083,\n",
       "       0.99995069, 0.99993793, 0.99992186, 0.99990162, 0.99987616,\n",
       "       0.9998441 , 0.99980374, 0.99975293, 0.99968898, 0.99960847,\n",
       "       0.99950714, 0.99937958, 0.99921903, 0.99901694, 0.99876258,\n",
       "       0.99844245, 0.99803957, 0.99753255, 0.99689452, 0.99609171,\n",
       "       0.99508162, 0.99381088, 0.99221243, 0.99020204, 0.987674  ,\n",
       "       0.9844957 , 0.98050093, 0.97548155, 0.96917732, 0.96126338,\n",
       "       0.95133532, 0.93889143, 0.92331267, 0.90384144, 0.8795627 ,\n",
       "       0.84939551, 0.81211383, 0.76643674, 0.71127178, 0.64625717,\n",
       "       0.57273992, 0.49486864, 0.41927846, 0.35207744, 0.29585258,\n",
       "       0.24997705, 0.21257172, 0.1817653 , 0.15607457, 0.13440466,\n",
       "       0.11595841, 0.10014901, 0.08653487, 0.07477467, 0.0645973 ,\n",
       "       0.05578186, 0.04814439, 0.04152901, 0.03580192, 0.03084728])"
      ]
     },
     "execution_count": 5,
     "metadata": {},
     "output_type": "execute_result"
    }
   ],
   "source": [
    "xxs"
   ]
  },
  {
   "cell_type": "code",
   "execution_count": null,
   "id": "3c1fa5ee-73b7-4927-99cb-e15fd89395db",
   "metadata": {},
   "outputs": [],
   "source": []
  }
 ],
 "metadata": {
  "kernelspec": {
   "display_name": "SimpleLabs",
   "language": "python",
   "name": "python3"
  },
  "language_info": {
   "codemirror_mode": {
    "name": "ipython",
    "version": 3
   },
   "file_extension": ".py",
   "mimetype": "text/x-python",
   "name": "python",
   "nbconvert_exporter": "python",
   "pygments_lexer": "ipython3",
   "version": "3.13.1"
  }
 },
 "nbformat": 4,
 "nbformat_minor": 5
}
