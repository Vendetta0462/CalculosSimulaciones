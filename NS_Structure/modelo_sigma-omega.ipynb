{
 "cells": [
  {
   "cell_type": "markdown",
   "metadata": {},
   "source": [
    "# Modelo *RMFT* ($\\sigma$-$\\omega$) para la EoS de Estrellas de Neutrones"
   ]
  },
  {
   "cell_type": "code",
   "execution_count": 1,
   "metadata": {},
   "outputs": [],
   "source": [
    "# Importamos las librerias necesarias\n",
    "import numpy as np\n",
    "import pandas as pd\n",
    "import matplotlib.pyplot as plt\n",
    "plt.rcParams['figure.figsize'] = (8,6)\n",
    "plt.rcParams['axes.labelsize'] = 14\n",
    "plt.rcParams['xtick.labelsize'] = 10\n",
    "plt.rcParams['ytick.labelsize'] = 10\n",
    "plt.rcParams['font.size'] = 15\n",
    "from scipy.integrate import odeint\n",
    "from scipy.interpolate import interp1d"
   ]
  },
  {
   "cell_type": "markdown",
   "metadata": {},
   "source": [
    "## Ecuacion de Estado del Modelo"
   ]
  },
  {
   "cell_type": "markdown",
   "metadata": {},
   "source": [
    "En términos de los campos medios $\\sigma$ y $\\omega_0$, podemos escribir la densidad de número, la densidad de energía y la presión de la estrella de neutrones como (unidades naturales):\n",
    "\n",
    "$$ n = \\frac{2k_F^3}{3\\pi^2} $$ \n",
    "$$ \\rho = \\frac{1}{2}m_\\sigma^2 \\sigma^2 + \\frac{1}{2}m_\\omega^2 \\omega_0^2 + \\frac{2}{3\\pi^2} \\int_0^{k_F} k^2 \\sqrt{k^2 + (m - g_\\sigma \\sigma)^2} dk$$\n",
    "$$ P = -\\frac{1}{2}m_\\sigma^2 \\sigma^2 + \\frac{1}{2}m_\\omega^2 \\omega_0^2 - \\frac{2}{3\\pi^2} \\int_0^{k_F} \\frac{k^4}{\\sqrt{k^2 + (m - g_\\sigma \\sigma)^2}} dk$$\n",
    "\n",
    "además, el sistema cumple las ecuaciones de campo:\n",
    "\n",
    "$$ g_\\sigma \\sigma = \\frac{g_\\sigma^2}{m_\\sigma^2} \\frac{2}{\\pi^2} \\int_0^{k_F} \\frac{m - g_\\sigma \\sigma}{\\sqrt{k^2 + (m - g_\\sigma \\sigma)^2}} k^2 dk$$\n",
    "$$ g_\\omega \\omega_0 = \\frac{g_\\omega^2}{m_\\omega^2} \\rho$$\n",
    "\n",
    "donde $m$ es la masa efectiva de los fermiones, $k_F$ es el momento de Fermi, $g_\\sigma$ y $g_\\omega$ son las constantes de acoplamiento de los campos $\\sigma$ y $\\omega$, respectivamente, y $m_\\sigma$ y $m_\\omega$ son las masas de los campos $\\sigma$ y $\\omega$. La primera ecuacion presenta un problema de autoconsistencia, ya que $g_\\sigma\\sigma$ aparece en ambos lados de la ecuación. "
   ]
  }
 ],
 "metadata": {
  "kernelspec": {
   "display_name": "SimpleLabs",
   "language": "python",
   "name": "python3"
  },
  "language_info": {
   "codemirror_mode": {
    "name": "ipython",
    "version": 3
   },
   "file_extension": ".py",
   "mimetype": "text/x-python",
   "name": "python",
   "nbconvert_exporter": "python",
   "pygments_lexer": "ipython3",
   "version": "3.13.1"
  }
 },
 "nbformat": 4,
 "nbformat_minor": 2
}
