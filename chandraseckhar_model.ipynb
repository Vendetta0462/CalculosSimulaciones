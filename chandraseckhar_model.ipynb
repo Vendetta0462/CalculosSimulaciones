{
 "cells": [
  {
   "cell_type": "markdown",
   "metadata": {},
   "source": [
    "# Modelo de Chandrasekhar de una Enana Blanca"
   ]
  },
  {
   "cell_type": "code",
   "execution_count": null,
   "metadata": {},
   "outputs": [],
   "source": [
    "# Importamos las librerías necesarias\n",
    "import numpy as np\n",
    "import pandas as pd\n",
    "import matplotlib.pyplot as plt\n",
    "plt.rcParams['figure.figsize'] = (8,6) # Tamaño de las figuras\n",
    "plt.rcParams['axes.labelsize'] = 14 # Tamaño de las etiquetas de los ejes\n",
    "plt.rcParams['xtick.labelsize'] = 10 # Tamaño de las marcas de los ejes\n",
    "plt.rcParams['ytick.labelsize'] = 10 # Tamaño de las marcas de los ejes\n",
    "plt.rcParams['font.size'] = 15 # Tamaño de la fuente del titulo\n",
    "from scipy.integrate import odeint"
   ]
  },
  {
   "cell_type": "markdown",
   "metadata": {},
   "source": [
    "Para un gas fermiónico completamente degenerado con función de ocupación:\n",
    "\n",
    "\\begin{equation*}\n",
    "f(\\epsilon) = \\lim_{T \\to 0} \\frac{1}{e^{\\frac{\\epsilon - \\mu}{kT}} + 1} =\n",
    " \\left\\{\n",
    "\\begin{array}{ll}\n",
    "1 & \\text{si } \\epsilon < \\epsilon_F \\\\\n",
    "0 & \\text{si } \\epsilon > \\epsilon_F\n",
    "\\end{array}\n",
    "\\right.,\n",
    "\\end{equation*}\n",
    "\n",
    "las integrales de densidad de electrones, presión y densidad de energía de una enana blanca son:\n",
    "\n",
    "\\begin{align*}\n",
    "n_e &= \\frac{8 \\pi}{h^3} \\int_0^{p_F} p^2 dp = \\frac{8 \\pi}{3 h^3} p_F^3, \\\\\n",
    "P &= \\frac{8 \\pi}{3h^3} \\int_0^{p_F} \\frac{p^4 c^2 dp}{\\sqrt{p^2 c^2 + m^2 c^4}}, \\\\ \n",
    "\\varepsilon &= \\frac{8 \\pi}{h^3} \\int_0^{p_F} \\sqrt{p^2 c^2 + m^2 c^4} p^2 dp.\n",
    "\\end{align*}\n",
    "\n",
    "En el caso no relativista $\\frac{p_F}{m c} \\ll 1$, la presión se puede aproximar como:\n",
    "\n",
    "\\begin{equation*}\n",
    "P = \\frac{8 \\pi}{3h^3} \\int_0^{p_F} \\frac{p^4dp}{m} = \\frac{8 \\pi}{15 h^3} \\frac{p_F^5}{m},\n",
    "\\end{equation*}\n",
    "\n",
    "la cual se puede relacionar con la densidad de masa de la estrella considerando $\\rho = m_n \\mathcal{k} n_e$:\n",
    "\n",
    "\\begin{equation*}\n",
    "P = \\left( \\frac{3}{8\\pi} \\right)^{2/3} \\frac{h^2}{5m_e(m_n \\mathcal{k})^{5/3}} \\rho^{5/3}.\n",
    "\\end{equation*}\n",
    "\n",
    "Para el caso altamente relativista $\\frac{p_F}{m c} \\gg 1$, la presión se puede aproximar como:\n",
    "\n",
    "\\begin{equation*}\n",
    "P = \\frac{8 \\pi}{3h^3} \\int_0^{p_F} c p^3 dp = \\frac{8 \\pi}{12 h^3} p_F^4 c,\n",
    "\\end{equation*}\n",
    "\n",
    "y, en términos de la densidad de masa:\n",
    "\n",
    "\\begin{equation*}\n",
    "P = \\left( \\frac{3}{8\\pi} \\right)^{1/3} \\frac{h c}{4(m_n \\mathcal{k})^{4/3}} \\rho^{4/3}.\n",
    "\\end{equation*}\n",
    "\n",
    "Estas expresiones son ecuaciones de estado politrópicas, las cuales se pueden utilizar para modelar la estructura de una enana blanca."
   ]
  },
  {
   "cell_type": "code",
   "execution_count": null,
   "metadata": {},
   "outputs": [],
   "source": [
    "# Definimos las constantes\n",
    "k = 2 # Constante de proporcionalidad nucleones por electrón\n",
    "m_n = 1.67e-27 # Masa de los nucleones en kg\n",
    "m_e = 9.11e-31 # Masa de los electrones en kg\n",
    "h = 6.63e-34 # Constante de Planck en J s\n",
    "c = 3e8 # Velocidad de la luz en m/s\n",
    "pi = np.pi # Valor de pi"
   ]
  },
  {
   "cell_type": "markdown",
   "metadata": {},
   "source": [
    "Para poder resolver el sistema, realizamos las siguientes sustituciones de variables:\n",
    "\n",
    "\\begin{align*}\n",
    "    \\rho(r) &= \\rho_0 \\theta^n, \\\\\n",
    "    P(r) &= K \\rho(r)^{\\gamma}, \\\\\n",
    "    \\alpha^2 &= \\frac{(n+1)K}{4\\pi G} \\rho_0^{n^{-1}-1}, \\\\\n",
    "    \\xi &= \\frac{r}{\\alpha},\n",
    "\\end{align*}\n",
    "\n",
    "de forma que el sistema se reduce a la ecuación de Lane-Emden:\n",
    "\n",
    "\\begin{equation*}\n",
    "    \\frac{1}{\\xi^2} \\frac{d}{d\\xi} \\left( \\xi^2 \\frac{d\\theta}{d\\xi} \\right) + \\theta^n = 0.\n",
    "\\end{equation*}\n",
    "\n",
    "En este caso se tienen las condiciones iniciales:\n",
    "\n",
    "\\begin{align*}\n",
    "    \\theta(0) &= 1, \\\\\n",
    "    \\theta'(0) &= 0.\n",
    "\\end{align*}\n",
    "\n",
    "Sin embargo, por la forma de la ecuación, no se puede iniciar en $\\xi = 0$, por lo que se inicia en $\\xi = \\epsilon$, para el cual las condiciones iniciales, al expandir las funciones y emplear las ecuaciones, son:\n",
    "\n",
    "\\begin{align*}\n",
    "    \\theta(\\epsilon) &= 1 - \\frac{1}{6} \\theta_2 \\epsilon^2 + \\mathcal{O}(\\epsilon^4), \\\\\n",
    "    \\theta'(\\epsilon) &= -\\frac{1}{3} \\theta_2 \\epsilon + \\mathcal{O}(\\epsilon^3),\n",
    "\\end{align*}\n",
    "\n",
    "donde $\\theta_2$ es una constante que se puede determinar a partir de la ecuación de Lane-Emden."
   ]
  }
 ],
 "metadata": {
  "kernelspec": {
   "display_name": "base",
   "language": "python",
   "name": "python3"
  },
  "language_info": {
   "codemirror_mode": {
    "name": "ipython",
    "version": 3
   },
   "file_extension": ".py",
   "mimetype": "text/x-python",
   "name": "python",
   "nbconvert_exporter": "python",
   "pygments_lexer": "ipython3",
   "version": "3.9.18"
  }
 },
 "nbformat": 4,
 "nbformat_minor": 2
}
