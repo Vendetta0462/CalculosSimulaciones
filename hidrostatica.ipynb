{
 "cells": [
  {
   "cell_type": "markdown",
   "metadata": {},
   "source": [
    "# Integración de ecuaciones hidrostaticas en RG y Newton"
   ]
  },
  {
   "cell_type": "code",
   "execution_count": 1,
   "metadata": {},
   "outputs": [],
   "source": [
    "import numpy as np\n",
    "import matplotlib.pyplot as plt\n",
    "from scipy.integrate import odeint\n",
    "import astropy.constants as const"
   ]
  },
  {
   "cell_type": "markdown",
   "metadata": {},
   "source": [
    "## Newtonian"
   ]
  },
  {
   "cell_type": "code",
   "execution_count": 2,
   "metadata": {},
   "outputs": [],
   "source": [
    "# Constants and parameters\n",
    "G = const.G.value\n",
    "M = const.M_sun.value\n",
    "R = const.R_sun.value\n",
    "c = const.c.value\n",
    "rho_0 = 1.5e5\n",
    "P_0 = 2.5e16\n",
    "\n",
    "k = 1\n",
    "gamma = 2\n",
    "\n",
    "a = rho_0*R**3/M\n",
    "b = rho_0/P_0*M/R\n",
    "l = M/R\n",
    "mu = rho_0**gamma/P_0*k"
   ]
  },
  {
   "cell_type": "code",
   "execution_count": 3,
   "metadata": {},
   "outputs": [],
   "source": [
    "# Define the ODEs\n",
    "def NewtOdes(x, r):\n",
    "    # Constants\n",
    "    G = const.G.value\n",
    "    M = const.M_sun.value\n",
    "    R = const.R_sun.value\n",
    "    c = const.c.value\n",
    "    rho_0 = 1.5e5\n",
    "    P_0 = 2.5e16\n",
    "\n",
    "    k = 2\n",
    "    gamma = 2\n",
    "\n",
    "    # a = rho_0*R**3/M\n",
    "    # b = rho_0/P_0*M/R\n",
    "    # l = M/R\n",
    "    # mu = rho_0**gamma/P_0*k\n",
    "    a = 1\n",
    "    b = 1\n",
    "    l = 1\n",
    "    mu = 1\n",
    "\n",
    "\n",
    "    # Variables\n",
    "    rho = x[0]\n",
    "    m = x[1]\n",
    "    phi = x[2]\n",
    "\n",
    "    # ODEs\n",
    "    # drho_dr = -b/mu/gamma * G*rho**(2-gamma)*m/r**2\n",
    "    # dm_dr = 4*np.pi*a*r**2*rho\n",
    "    # dphi_dr = l*G/c**2*m/r**2\n",
    "    drho_dr = -1/gamma * rho**(2-gamma)*m/r**2\n",
    "    dm_dr = r**2*rho\n",
    "    dphi_dr = l*m/r**2\n",
    "\n",
    "    return [drho_dr, dm_dr, dphi_dr]"
   ]
  },
  {
   "cell_type": "code",
   "execution_count": 4,
   "metadata": {},
   "outputs": [],
   "source": [
    "# initial conditions\n",
    "rho_0 = 1.5e5\n",
    "m_0 = 0\n",
    "phi_0 = 0\n",
    "x_0 = [rho_0, m_0, phi_0]\n",
    "\n",
    "# integration range\n",
    "r = np.linspace(1e-5, 5, 1000)\n",
    "\n",
    "# solve ODE\n",
    "x = odeint(NewtOdes, x_0, r)"
   ]
  },
  {
   "cell_type": "code",
   "execution_count": 5,
   "metadata": {},
   "outputs": [
    {
     "name": "stdout",
     "output_type": "stream",
     "text": [
      "4.444445555555556 -52.73490137418116\n"
     ]
    },
    {
     "data": {
      "image/png": "[encoded data removed]",
      "text/plain": [
       "<Figure size 640x480 with 1 Axes>"
      ]
     },
     "metadata": {},
     "output_type": "display_data"
    }
   ],
   "source": [
    "# search the x where rho = 0\n",
    "for i in range(len(x[:,0])):\n",
    "    if x[i,0] < 0:\n",
    "        print(r[i], x[i,0])\n",
    "        lim = i\n",
    "        break\n",
    "\n",
    "# plot\n",
    "plt.plot(r[:lim], x[:lim,0], label='rho')\n",
    "plt.plot(r[:lim], x[:lim,1], label='m')\n",
    "plt.plot(r[:lim], x[:lim,2], label='phi')\n",
    "# plt.plot(r, k*(x[:,0])**gamma, label='P')\n",
    "# plt.plot(r, x[:,0], label='rho')\n",
    "# plt.plot(r, x[:,1], label='m')\n",
    "# plt.plot(r, x[:,2], label='phi')\n",
    "# plt.plot(r, k*(x[:,0])**gamma, label='P')\n",
    "plt.xlabel('r')\n",
    "plt.legend()\n",
    "plt.grid()\n",
    "plt.show()"
   ]
  },
  {
   "cell_type": "markdown",
   "metadata": {},
   "source": [
    "## Relativistic"
   ]
  },
  {
   "cell_type": "code",
   "execution_count": 10,
   "metadata": {},
   "outputs": [],
   "source": [
    "# Define the ODEs\n",
    "def RelOdes(x, r):\n",
    "    # Constants\n",
    "    G = const.G.value\n",
    "    M = const.M_sun.value\n",
    "    R = const.R_sun.value\n",
    "    c = const.c.value\n",
    "    rho_0 = 1.5e5\n",
    "    P_0 = 2.5e16\n",
    "\n",
    "    k = 1\n",
    "    gamma = 2\n",
    "\n",
    "    # a = 4*np.pi*rho_0*R**3/M\n",
    "    # d = P_0/c**2/rho_0\n",
    "    # l = G/c**2*M/R\n",
    "    # mu = rho_0**gamma/P_0*k\n",
    "    a = 1\n",
    "    d = 1\n",
    "    l = 1\n",
    "    mu = 1\n",
    "\n",
    "    # Variables\n",
    "    rho = x[0]\n",
    "    m = x[1]\n",
    "    phi = x[2]\n",
    "\n",
    "    # ODEs\n",
    "    drho_dr = -l/d/mu/gamma * rho**(2-gamma)*m/r**2 * (1 + mu*d*rho**(gamma-1)) * (1 + mu/m*a*d*rho**gamma*r**3) / (1 - 2*l*m/r)\n",
    "    dm_dr = a*r**2*rho\n",
    "    dphi_dr = l*m/r**2 * (1 + mu/m*a*d*rho**gamma*r**3) / (1 - 2*l*m/r)\n",
    "    return [drho_dr, dm_dr, dphi_dr]"
   ]
  },
  {
   "cell_type": "code",
   "execution_count": 13,
   "metadata": {},
   "outputs": [
    {
     "name": "stderr",
     "output_type": "stream",
     "text": [
      "c:\\ProgramData\\Anaconda3\\lib\\site-packages\\scipy\\integrate\\_odepack_py.py:248: ODEintWarning: Excess work done on this call (perhaps wrong Dfun type). Run with full_output = 1 to get quantitative information.\n",
      "  warnings.warn(warning_msg, ODEintWarning)\n"
     ]
    }
   ],
   "source": [
    "# initial conditions\n",
    "rho_0 = 1\n",
    "m_0 = 4*np.pi/3*(1e-5)**3*rho_0\n",
    "phi_0 = 0\n",
    "x_0 = [rho_0, m_0, phi_0]\n",
    "\n",
    "# integration range\n",
    "r = np.linspace(1e-5, 5, 1000)\n",
    "\n",
    "# solve ODE\n",
    "x = odeint(RelOdes, x_0, r)"
   ]
  },
  {
   "cell_type": "code",
   "execution_count": 14,
   "metadata": {},
   "outputs": [
    {
     "name": "stdout",
     "output_type": "stream",
     "text": [
      "0.005014994994994995 -0.013380615800487114\n"
     ]
    },
    {
     "data": {
      "image/png": "[encoded data removed]",
      "text/plain": [
       "<Figure size 640x480 with 1 Axes>"
      ]
     },
     "metadata": {},
     "output_type": "display_data"
    }
   ],
   "source": [
    "# search the x where rho = 0\n",
    "for i in range(len(x[:,0])):\n",
    "    if x[i,0] < 0:\n",
    "        print(r[i], x[i,0])\n",
    "        lim = i\n",
    "        break\n",
    "\n",
    "# plot\n",
    "# plt.plot(r[:lim], x[:lim,0], label='rho')\n",
    "# plt.plot(r[:lim], x[:lim,1], label='m')\n",
    "# plt.plot(r[:lim], x[:lim,2], label='phi')\n",
    "# plt.plot(r, k*(x[:,0])**gamma, label='P')\n",
    "plt.plot(r, x[:,0], label='rho')\n",
    "plt.plot(r, x[:,1], label='m')\n",
    "plt.plot(r, x[:,2], label='phi')\n",
    "# plt.plot(r, k*(x[:,0])**gamma, label='P')\n",
    "plt.xlabel('r')\n",
    "plt.legend()\n",
    "plt.grid()\n",
    "plt.show()"
   ]
  },
  {
   "cell_type": "code",
   "execution_count": null,
   "metadata": {},
   "outputs": [],
   "source": []
  }
 ],
 "metadata": {
  "kernelspec": {
   "display_name": "base",
   "language": "python",
   "name": "python3"
  },
  "language_info": {
   "codemirror_mode": {
    "name": "ipython",
    "version": 3
   },
   "file_extension": ".py",
   "mimetype": "text/x-python",
   "name": "python",
   "nbconvert_exporter": "python",
   "pygments_lexer": "ipython3",
   "version": "3.9.18"
  }
 },
 "nbformat": 4,
 "nbformat_minor": 2
}
