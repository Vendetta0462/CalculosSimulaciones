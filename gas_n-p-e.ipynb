{
 "cells": [
  {
   "cell_type": "markdown",
   "metadata": {},
   "source": [
    "# Solución hidrostática de una estrella formada por un gas ideal de $n$, $p$ y $e$ degenerados"
   ]
  },
  {
   "cell_type": "code",
   "execution_count": 1,
   "metadata": {},
   "outputs": [],
   "source": [
    "import numpy as np\n",
    "import matplotlib.pyplot as plt\n",
    "from scipy.integrate import odeint\n",
    "from scipy.interpolate import CubicSpline, interp1d"
   ]
  },
  {
   "cell_type": "markdown",
   "metadata": {},
   "source": [
    "## Ecuacion de estado del gas"
   ]
  },
  {
   "cell_type": "markdown",
   "metadata": {},
   "source": [
    "### Expresiones"
   ]
  },
  {
   "cell_type": "markdown",
   "metadata": {},
   "source": [
    "Similar al gas degenerado de neutrones, este gas ideal de $n$, $p$ y $e$ degenerados corresponde a la suma de las cantidades obtenidas para cada especie, dado que no interactúan. Así, utilizando los parámetro $x_i = \\frac{p_F^i}{m_i c}$, se tiene para la presión, densidad de energía y densidad de número de partículas:\n",
    "\n",
    "$$ \\hat P = \\frac{1}{P_0} (A_e f(x_e) + A_p f(x_p) + A_n f(x_n)), $$\n",
    "$$ \\hat \\rho = \\frac{3}{\\rho_0} (A_e g(x_e) + A_p g(x_p) + A_n g(x_n))$$\n",
    "$$ n = \\frac{B_e}{m_e} x_e^3 + \\frac{B_p}{m_p} x_p^3 + \\frac{B_n}{m_n} x_n^3 \\Rightarrow \\rho_m = B_e x_e^3 + B_p x_p^3 + B_n x_n^3$$\n",
    "\n",
    "donde\n",
    "\n",
    "$$ f(x) = x\\sqrt{x^2+1}(2x^2-3) + 3 ln(x+\\sqrt{x^2+1}), $$\n",
    "$$ g(x) = x\\sqrt{x^2+1}(2x^2+1) + ln(x+\\sqrt{x^2+1}),$$\n",
    "\n",
    "con\n",
    "\n",
    "$$ A_i = \\frac{\\pi m_i^4 c^5}{3h^3},$$\n",
    "$$ B_i = \\frac{8 \\pi m_i^4 c^3}{3h^3} = \\frac{8}{c^2}A_i.$$\n",
    "\n",
    "Para resolver este sistema, se asume neutralidad global de la estrella, es decir, empleando la relación $n_i = \\frac{8\\pi}{3 h^3} (p_F^i)^3$, se tiene:\n",
    "\n",
    "$$ n_e = n_p \\Rightarrow m_e x_e = m_p x_p,$$\n",
    "\n",
    "así como equilibrio frente al decaimiento $\\beta$ inverso, considerando que el potencial químico en el caso completamente degenerado es la energía de fermi $\\mu_i=E_F^i = m_i c^2 \\left[ 1+ \\left(\\frac{p_F^i}{mc}\\right)^2 \\right]^{1/2}$:\n",
    "\n",
    "$$ \\mu_e + \\mu_p = \\mu_n \\Rightarrow m_e(1+x_e^2)^{1/2} + m_p(1+x_p^2)^{1/2} = m_n(1+x_n^2)^{1/2}.$$\n",
    "\n",
    "De este modo se tienen las siguientes relaciones que permiten resolver con el parametro $x_e$:\n",
    "\n",
    "$$ x_p = \\frac{m_e}{m_p} x_e,$$\n",
    "$$ x_n = \\frac{1}{m_n} \\left[ \\left( m_e(1+x_e^2)^{1/2} + \\left(m_p^2+m_e^2 x_e^2\\right)^{1/2} \\right)^2 -m_n^2 \\right]^{1/2}.$$"
   ]
  },
  {
   "cell_type": "markdown",
   "metadata": {},
   "source": [
    "### Interpolación de las ecuaciones paramétricas"
   ]
  }
 ],
 "metadata": {
  "kernelspec": {
   "display_name": "base",
   "language": "python",
   "name": "python3"
  },
  "language_info": {
   "codemirror_mode": {
    "name": "ipython",
    "version": 3
   },
   "file_extension": ".py",
   "mimetype": "text/x-python",
   "name": "python",
   "nbconvert_exporter": "python",
   "pygments_lexer": "ipython3",
   "version": "3.9.18"
  }
 },
 "nbformat": 4,
 "nbformat_minor": 2
}
